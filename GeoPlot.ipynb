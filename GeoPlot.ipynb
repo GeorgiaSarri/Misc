{
 "cells": [
  {
   "cell_type": "markdown",
   "metadata": {},
   "source": [
    "# Simple Geographical Plot\n",
    "-------------------------------------\n",
    "Author: Georgia Sarri"
   ]
  },
  {
   "cell_type": "markdown",
   "metadata": {},
   "source": [
    "1) Get imports and set plotly working offline"
   ]
  },
  {
   "cell_type": "code",
   "execution_count": 8,
   "metadata": {},
   "outputs": [
    {
     "data": {
      "text/html": [
       "<script>requirejs.config({paths: { 'plotly': ['https://cdn.plot.ly/plotly-latest.min']},});if(!window.Plotly) {{require(['plotly'],function(plotly) {window.Plotly=plotly;});}}</script>"
      ],
      "text/vnd.plotly.v1+html": [
       "<script>requirejs.config({paths: { 'plotly': ['https://cdn.plot.ly/plotly-latest.min']},});if(!window.Plotly) {{require(['plotly'],function(plotly) {window.Plotly=plotly;});}}</script>"
      ]
     },
     "metadata": {},
     "output_type": "display_data"
    }
   ],
   "source": [
    "import numpy as np\n",
    "import pandas as pd\n",
    "import plotly.plotly as py\n",
    "import plotly.graph_objs as go \n",
    "from plotly.offline import download_plotlyjs, init_notebook_mode, plot, iplot\n",
    "\n",
    "init_notebook_mode(connected=True) "
   ]
  },
  {
   "cell_type": "markdown",
   "metadata": {},
   "source": [
    "2) Read Data <br> \n",
    "Source:\n",
    "* [OECD Data](https://data.oecd.org/unemp/unemployment-rate.htm)\n",
    "* [CountryCodes](https://www.nationsonline.org/oneworld/country_code_list.htm)"
   ]
  },
  {
   "cell_type": "code",
   "execution_count": 12,
   "metadata": {},
   "outputs": [
    {
     "name": "stdout",
     "output_type": "stream",
     "text": [
      "  LOCATION LOCATION_DESCRIPTION INDICATOR SUBJECT MEASURE FREQUENCY  TIME  \\\n",
      "0      AUS            Australia     UNEMP     MEN   PC_LF         A  1979   \n",
      "1      AUS            Australia     UNEMP     MEN   PC_LF         A  1980   \n",
      "2      AUS            Australia     UNEMP     MEN   PC_LF         A  1981   \n",
      "3      AUS            Australia     UNEMP     MEN   PC_LF         A  1982   \n",
      "4      AUS            Australia     UNEMP     MEN   PC_LF         A  1983   \n",
      "5      AUS            Australia     UNEMP     MEN   PC_LF         A  1984   \n",
      "6      AUS            Australia     UNEMP     MEN   PC_LF         A  1985   \n",
      "7      AUS            Australia     UNEMP     MEN   PC_LF         A  1986   \n",
      "8      AUS            Australia     UNEMP     MEN   PC_LF         A  1987   \n",
      "9      AUS            Australia     UNEMP     MEN   PC_LF         A  1988   \n",
      "\n",
      "      Value Flag Codes  \n",
      "0  5.162579        NaN  \n",
      "1  5.068766        NaN  \n",
      "2  4.808415        NaN  \n",
      "3  6.345981        NaN  \n",
      "4  9.716337        NaN  \n",
      "5  8.686903        NaN  \n",
      "6  7.943595        NaN  \n",
      "7  7.669734        NaN  \n",
      "8  7.761060        NaN  \n",
      "9  6.768215        NaN  \n"
     ]
    }
   ],
   "source": [
    "xls = pd.ExcelFile('GeoData_Unemployment.xlsx')\n",
    "data= pd.read_excel(xls, sheet='Data')\n",
    "\n",
    "print(data.head(10))"
   ]
  },
  {
   "cell_type": "markdown",
   "metadata": {},
   "source": [
    "3) Isolate Data for 2017-Q4"
   ]
  },
  {
   "cell_type": "code",
   "execution_count": 20,
   "metadata": {},
   "outputs": [
    {
     "name": "stdout",
     "output_type": "stream",
     "text": [
      "     LOCATION LOCATION_DESCRIPTION INDICATOR SUBJECT MEASURE FREQUENCY  \\\n",
      "3385      AUS            Australia     UNEMP     TOT   PC_LF         Q   \n",
      "\n",
      "         TIME     Value Flag Codes  \n",
      "3385  2017-Q4  5.453303        NaN  \n"
     ]
    }
   ],
   "source": [
    "unempl = data.loc[(data['TIME']=='2017-Q4') & (data['SUBJECT']=='TOT')]\n",
    "print(unempl.head(1))"
   ]
  },
  {
   "cell_type": "markdown",
   "metadata": {},
   "source": [
    "4) Plot the percentage of unemployment"
   ]
  },
  {
   "cell_type": "code",
   "execution_count": 25,
   "metadata": {},
   "outputs": [
    {
     "data": {
      "application/vnd.plotly.v1+json": {
       "data": [
        {
         "colorbar": {
          "title": "Uneployment Percentage"
         },
         "locations": [
          "AUS",
          "AUT",
          "BEL",
          "CAN",
          "CZE",
          "DNK",
          "FIN",
          "FRA",
          "DEU",
          "GRC",
          "HUN",
          "ISL",
          "IRL",
          "ITA",
          "JPN",
          "KOR",
          "LUX",
          "MEX",
          "NLD",
          "NZL",
          "NOR",
          "POL",
          "PRT",
          "SVK",
          "ESP",
          "SWE",
          "CHE",
          "TUR",
          "GBR",
          "USA",
          "CHL",
          "EST",
          "ISR",
          "RUS",
          "SVN",
          "ZAF",
          "EU28",
          "OECD",
          "EA19",
          "COL",
          "LVA",
          "LTU"
         ],
         "text": [
          "Australia",
          "Austria",
          "Belgium",
          "Burundi",
          "Czech Republic",
          "Dominica",
          "Finland",
          "Germany",
          "Czech Republic",
          "Greece",
          "Heard and Mcdonald Islands",
          "Isle of Man ",
          "Ireland",
          "Italy",
          "Jordan",
          "Korea (South)",
          "Lao PDR",
          "Saint-Martin (French part)",
          "Saint-Martin (French part)",
          "Saint-Martin (French part)",
          "Saint-Martin (French part)",
          "Saint-Martin (French part)",
          "Saint-Martin (French part)",
          "Svalbard and Jan Mayen Islands ",
          "Egypt",
          "Sweden",
          "Burundi",
          "Turks and Caicos Islands ",
          "Germany",
          "Uruguay",
          "Chile",
          "Egypt",
          "Israel",
          "Saint-Martin (French part)",
          "Svalbard and Jan Mayen Islands ",
          "Yemen",
          "Egypt",
          "Saint-Martin (French part)",
          "Dominican Republic",
          "Côte d'Ivoire",
          "Latvia",
          "Lao PDR"
         ],
         "type": "choropleth",
         "uid": "3646e8fe-de8e-11e8-a151-185e0f8c027a",
         "z": [
          5.453303,
          5.349661,
          6.319499,
          5.966667,
          2.445361,
          5.364094,
          8.265982,
          8.938296,
          3.608455,
          20.81335,
          3.90164,
          2.817422,
          6.272174,
          10.86402,
          2.733333,
          3.666667,
          5.178493,
          3.403904,
          4.418008,
          4.5,
          3.94071,
          4.457354,
          7.967348,
          7.572134,
          16.50766,
          6.553618,
          4.760399,
          10.10843,
          4.23072,
          4.1,
          6.842448,
          5.364464,
          4.134126,
          5.076169,
          5.812354,
          27.52677,
          7.292254,
          5.505862,
          8.689426,
          9.527422,
          8.143585,
          6.836337
         ]
        }
       ],
       "layout": {
        "geo": {
         "projection": {
          "type": "natural earth"
         },
         "showframe": false
        },
        "title": "Uneployment Percentage For Q4 2017"
       }
      },
      "text/html": [
       "<div id=\"d6540fa4-e498-49e1-82de-9f02df6879ec\" style=\"height: 525px; width: 100%;\" class=\"plotly-graph-div\"></div><script type=\"text/javascript\">require([\"plotly\"], function(Plotly) { window.PLOTLYENV=window.PLOTLYENV || {};window.PLOTLYENV.BASE_URL=\"https://plot.ly\";Plotly.newPlot(\"d6540fa4-e498-49e1-82de-9f02df6879ec\", [{\"type\": \"choropleth\", \"text\": [\"Australia\", \"Austria\", \"Belgium\", \"Burundi\", \"Czech Republic\", \"Dominica\", \"Finland\", \"Germany\", \"Czech Republic\", \"Greece\", \"Heard and Mcdonald Islands\", \"Isle of Man \", \"Ireland\", \"Italy\", \"Jordan\", \"Korea (South)\", \"Lao PDR\", \"Saint-Martin (French part)\", \"Saint-Martin (French part)\", \"Saint-Martin (French part)\", \"Saint-Martin (French part)\", \"Saint-Martin (French part)\", \"Saint-Martin (French part)\", \"Svalbard and Jan Mayen Islands \", \"Egypt\", \"Sweden\", \"Burundi\", \"Turks and Caicos Islands \", \"Germany\", \"Uruguay\", \"Chile\", \"Egypt\", \"Israel\", \"Saint-Martin (French part)\", \"Svalbard and Jan Mayen Islands \", \"Yemen\", \"Egypt\", \"Saint-Martin (French part)\", \"Dominican Republic\", \"C\\u00f4te d'Ivoire\", \"Latvia\", \"Lao PDR\"], \"locations\": [\"AUS\", \"AUT\", \"BEL\", \"CAN\", \"CZE\", \"DNK\", \"FIN\", \"FRA\", \"DEU\", \"GRC\", \"HUN\", \"ISL\", \"IRL\", \"ITA\", \"JPN\", \"KOR\", \"LUX\", \"MEX\", \"NLD\", \"NZL\", \"NOR\", \"POL\", \"PRT\", \"SVK\", \"ESP\", \"SWE\", \"CHE\", \"TUR\", \"GBR\", \"USA\", \"CHL\", \"EST\", \"ISR\", \"RUS\", \"SVN\", \"ZAF\", \"EU28\", \"OECD\", \"EA19\", \"COL\", \"LVA\", \"LTU\"], \"z\": [5.453303, 5.349661, 6.319499, 5.966667, 2.445361, 5.364094, 8.265982, 8.938296, 3.608455, 20.81335, 3.90164, 2.817422, 6.272174, 10.86402, 2.733333, 3.666667, 5.178493, 3.403904, 4.418008, 4.5, 3.94071, 4.457354, 7.967348, 7.572134, 16.50766, 6.553618, 4.760399, 10.10843, 4.23072, 4.1, 6.842448, 5.364464, 4.134126, 5.076169, 5.812354, 27.52677, 7.292254, 5.505862, 8.689426, 9.527422, 8.143585, 6.836337], \"colorbar\": {\"title\": \"Uneployment Percentage\"}, \"uid\": \"3646e8fe-de8e-11e8-a151-185e0f8c027a\"}], {\"geo\": {\"showframe\": false, \"projection\": {\"type\": \"natural earth\"}}, \"title\": \"Uneployment Percentage For Q4 2017\"}, {\"linkText\": \"Export to plot.ly\", \"showLink\": true})});</script>"
      ],
      "text/vnd.plotly.v1+html": [
       "<div id=\"d6540fa4-e498-49e1-82de-9f02df6879ec\" style=\"height: 525px; width: 100%;\" class=\"plotly-graph-div\"></div><script type=\"text/javascript\">require([\"plotly\"], function(Plotly) { window.PLOTLYENV=window.PLOTLYENV || {};window.PLOTLYENV.BASE_URL=\"https://plot.ly\";Plotly.newPlot(\"d6540fa4-e498-49e1-82de-9f02df6879ec\", [{\"type\": \"choropleth\", \"text\": [\"Australia\", \"Austria\", \"Belgium\", \"Burundi\", \"Czech Republic\", \"Dominica\", \"Finland\", \"Germany\", \"Czech Republic\", \"Greece\", \"Heard and Mcdonald Islands\", \"Isle of Man \", \"Ireland\", \"Italy\", \"Jordan\", \"Korea (South)\", \"Lao PDR\", \"Saint-Martin (French part)\", \"Saint-Martin (French part)\", \"Saint-Martin (French part)\", \"Saint-Martin (French part)\", \"Saint-Martin (French part)\", \"Saint-Martin (French part)\", \"Svalbard and Jan Mayen Islands \", \"Egypt\", \"Sweden\", \"Burundi\", \"Turks and Caicos Islands \", \"Germany\", \"Uruguay\", \"Chile\", \"Egypt\", \"Israel\", \"Saint-Martin (French part)\", \"Svalbard and Jan Mayen Islands \", \"Yemen\", \"Egypt\", \"Saint-Martin (French part)\", \"Dominican Republic\", \"C\\u00f4te d'Ivoire\", \"Latvia\", \"Lao PDR\"], \"locations\": [\"AUS\", \"AUT\", \"BEL\", \"CAN\", \"CZE\", \"DNK\", \"FIN\", \"FRA\", \"DEU\", \"GRC\", \"HUN\", \"ISL\", \"IRL\", \"ITA\", \"JPN\", \"KOR\", \"LUX\", \"MEX\", \"NLD\", \"NZL\", \"NOR\", \"POL\", \"PRT\", \"SVK\", \"ESP\", \"SWE\", \"CHE\", \"TUR\", \"GBR\", \"USA\", \"CHL\", \"EST\", \"ISR\", \"RUS\", \"SVN\", \"ZAF\", \"EU28\", \"OECD\", \"EA19\", \"COL\", \"LVA\", \"LTU\"], \"z\": [5.453303, 5.349661, 6.319499, 5.966667, 2.445361, 5.364094, 8.265982, 8.938296, 3.608455, 20.81335, 3.90164, 2.817422, 6.272174, 10.86402, 2.733333, 3.666667, 5.178493, 3.403904, 4.418008, 4.5, 3.94071, 4.457354, 7.967348, 7.572134, 16.50766, 6.553618, 4.760399, 10.10843, 4.23072, 4.1, 6.842448, 5.364464, 4.134126, 5.076169, 5.812354, 27.52677, 7.292254, 5.505862, 8.689426, 9.527422, 8.143585, 6.836337], \"colorbar\": {\"title\": \"Uneployment Percentage\"}, \"uid\": \"3646e8fe-de8e-11e8-a151-185e0f8c027a\"}], {\"geo\": {\"showframe\": false, \"projection\": {\"type\": \"natural earth\"}}, \"title\": \"Uneployment Percentage For Q4 2017\"}, {\"linkText\": \"Export to plot.ly\", \"showLink\": true})});</script>"
      ]
     },
     "metadata": {},
     "output_type": "display_data"
    }
   ],
   "source": [
    "dataPlot = dict(     \n",
    "        type = 'choropleth',\n",
    "        locations = unempl['LOCATION'],\n",
    "        z = unempl['Value'],\n",
    "        text = unempl['LOCATION_DESCRIPTION'],\n",
    "        colorbar = {'title' : 'Uneployment Percentage'}\n",
    ")\n",
    "\n",
    "layout = dict(\n",
    "    title = 'Uneployment Percentage For Q4 2017',\n",
    "    geo = dict(\n",
    "        showframe = False,\n",
    "        projection = {'type': \"natural earth\" }\n",
    "    )\n",
    ")\n",
    "\n",
    "choromap = go.Figure(data = [dataPlot],layout = layout)\n",
    "iplot(choromap)"
   ]
  }
 ],
 "metadata": {
  "kernelspec": {
   "display_name": "Python 3",
   "language": "python",
   "name": "python3"
  },
  "language_info": {
   "codemirror_mode": {
    "name": "ipython",
    "version": 3
   },
   "file_extension": ".py",
   "mimetype": "text/x-python",
   "name": "python",
   "nbconvert_exporter": "python",
   "pygments_lexer": "ipython3",
   "version": "3.5.4"
  }
 },
 "nbformat": 4,
 "nbformat_minor": 2
}
